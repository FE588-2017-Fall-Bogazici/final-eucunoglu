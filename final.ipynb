{
 "cells": [
  {
   "cell_type": "code",
   "execution_count": 1,
   "metadata": {},
   "outputs": [
    {
     "name": "stdout",
     "output_type": "stream",
     "text": [
      "3 cos(3x) +7.1 sin(2x) +0.3 sin(x) -3 \n"
     ]
    }
   ],
   "source": [
    "#1\n",
    "\n",
    "import numpy as np\n",
    "\n",
    "\n",
    "class polynomial(object):\n",
    "    def __init__(self, c, t, v='x'):\n",
    "        self.coeff = c\n",
    "        self.sincos=t\n",
    "        self.v = v\n",
    "    def __repr__(self):\n",
    "        coeff = self.coeff\n",
    "        v = self.v\n",
    "        sincos=self.sincos\n",
    "        s = ''\n",
    "        D = len(coeff)\n",
    "        \n",
    "        first = True\n",
    "        \n",
    "        for i in range(D):\n",
    "            pw = D-i-1\n",
    "            pre = '+' if coeff[i]>0 else ''\n",
    "            if first:\n",
    "                if pre=='+':\n",
    "                    pre = ''\n",
    "                first = False\n",
    "            \n",
    "            if pw == 0:\n",
    "                vname = ''\n",
    "                tname = ''\n",
    "            elif pw == 1:\n",
    "                vname = v\n",
    "                tx='sin' if sincos[i]=='s' else 'cos'\n",
    "                tname =tx+ '(' + vname + ')'+' '\n",
    "            else:\n",
    "                vname = str(pw)+v \n",
    "                tx='sin' if sincos[i]=='s' else 'cos'\n",
    "                tname =tx+ '(' + vname + ')'+' '\n",
    "            if coeff[i] != 0:\n",
    "                s += pre+str(coeff[i])+ ' '+ tname\n",
    "                \n",
    "        return s\n",
    "\n",
    "    \n",
    "    \n",
    "p = polynomial([3, 7.1, 0.3, -3],['c', 's', 's'], 'x')\n",
    "print(p)"
   ]
  },
  {
   "cell_type": "code",
   "execution_count": 3,
   "metadata": {},
   "outputs": [
    {
     "data": {
      "text/plain": [
       "['Han Solo',\n",
       " 'Padme Amidala',\n",
       " 'Anakin Skywalker',\n",
       " 'Leia',\n",
       " 'Yoda',\n",
       " 'Luke',\n",
       " 'Obi-Wan',\n",
       " 'Darth Vader']"
      ]
     },
     "execution_count": 3,
     "metadata": {},
     "output_type": "execute_result"
    }
   ],
   "source": [
    "#2\n",
    "class myobj:\n",
    "    def __init__(self, nick):\n",
    "        self.dpn = []\n",
    "        self.nick = nick\n",
    "\n",
    "    def add_dependency(self, *myobj):\n",
    "        self.dpn.extend(myobj)\n",
    "\n",
    "    def build(self, nicks=None):\n",
    "        if nicks is None:\n",
    "            nicks = []\n",
    "\n",
    "        for i in self.dpn:\n",
    "            if i.nick not in nicks:\n",
    "                i.build(nicks)\n",
    "                nicks.append(i.nick)\n",
    "\n",
    "        return nicks\n",
    "\n",
    "    def __str__(self):\n",
    "        return self.nick\n",
    "    \n",
    "luke    = myobj(\"Luke\")\n",
    "hansolo = myobj(\"Han Solo\")\n",
    "leia    = myobj(\"Leia\")\n",
    "yoda    = myobj(\"Yoda\")\n",
    "padme   = myobj(\"Padme Amidala\")\n",
    "anakin  = myobj(\"Anakin Skywalker\")\n",
    "obi     = myobj(\"Obi-Wan\")\n",
    "darth   = myobj(\"Darth Vader\")\n",
    "_all    = myobj(\"All\")\n",
    "\n",
    "\n",
    "luke.add_dependency(hansolo, leia, yoda)\n",
    "leia.add_dependency(padme, anakin)\n",
    "obi.add_dependency(yoda)\n",
    "darth.add_dependency(anakin)\n",
    "\n",
    "_all.add_dependency(luke, hansolo, leia, yoda, padme, anakin, obi, darth)\n",
    "_all.build()"
   ]
  },
  {
   "cell_type": "code",
   "execution_count": null,
   "metadata": {
    "collapsed": true
   },
   "outputs": [],
   "source": []
  }
 ],
 "metadata": {
  "kernelspec": {
   "display_name": "Python 3",
   "language": "python",
   "name": "python3"
  },
  "language_info": {
   "codemirror_mode": {
    "name": "ipython",
    "version": 3
   },
   "file_extension": ".py",
   "mimetype": "text/x-python",
   "name": "python",
   "nbconvert_exporter": "python",
   "pygments_lexer": "ipython3",
   "version": "3.6.1"
  }
 },
 "nbformat": 4,
 "nbformat_minor": 2
}
